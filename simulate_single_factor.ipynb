{
  "nbformat": 4,
  "nbformat_minor": 0,
  "metadata": {
    "colab": {
      "provenance": [],
      "authorship_tag": "ABX9TyNo+SF/+iH9uGrxv7NwGQOY"
    },
    "kernelspec": {
      "name": "python3",
      "display_name": "Python 3"
    },
    "language_info": {
      "name": "python"
    }
  },
  "cells": [
    {
      "cell_type": "code",
      "execution_count": 206,
      "metadata": {
        "id": "pe-r2509_Xjj"
      },
      "outputs": [],
      "source": [
        "import numpy as np\n",
        "\n",
        "SEED = 123\n",
        "m = 100000 # Number of simulations"
      ]
    },
    {
      "cell_type": "code",
      "source": [
        "# B: Exposures\n",
        "\n",
        "n = 2 # Number of assets\n",
        "np.random.seed(SEED)\n",
        "B = np.round(np.random.rand(n),2).reshape(n,1) # Factor exposures\n",
        "\n",
        "print('B')\n",
        "print(B)"
      ],
      "metadata": {
        "colab": {
          "base_uri": "https://localhost:8080/"
        },
        "id": "tqL8JBOvCR3d",
        "outputId": "4adc4fad-094b-43b0-9284-a74b89798b83"
      },
      "execution_count": 207,
      "outputs": [
        {
          "output_type": "stream",
          "name": "stdout",
          "text": [
            "B\n",
            "[[0.7 ]\n",
            " [0.29]]\n"
          ]
        }
      ]
    },
    {
      "cell_type": "code",
      "source": [
        "# F: Factor\n",
        "\n",
        "mu = .09 # Expected value of factor\n",
        "Q = .25 # Covariance matrix, here one variance only\n",
        "np.random.seed(SEED)\n",
        "Fs = np.random.standard_normal(m) * np.sqrt(Q) + mu\n",
        "Fs = Fs.reshape(1, m) # One factor, m steps\n",
        "\n",
        "print('Factor')\n",
        "print('mu,  expected:', mu)\n",
        "print('mu,  realized:', Fs.mean(axis=1))\n",
        "print('var, expected:', Q)\n",
        "print('var, realized:', Fs.var(axis=1))"
      ],
      "metadata": {
        "colab": {
          "base_uri": "https://localhost:8080/"
        },
        "id": "8lHsi582_kXP",
        "outputId": "6491487b-f0da-4157-dd87-fa9e908b13f7"
      },
      "execution_count": 208,
      "outputs": [
        {
          "output_type": "stream",
          "name": "stdout",
          "text": [
            "Factor\n",
            "mu,  expected: 0.09\n",
            "mu,  realized: [0.09065741]\n",
            "var, expected: 0.25\n",
            "var, realized: [0.24978513]\n"
          ]
        }
      ]
    },
    {
      "cell_type": "code",
      "source": [
        "# u: Unexplained part, i.e. noise, error.\n",
        "\n",
        "np.random.seed(SEED)\n",
        "D = np.eye(n) * np.random.rand(n, n) / 5 # Diagonal matrix of unexplained variances\n",
        "e = np.random.standard_normal(size=(n, m)) # Gaussian noise\n",
        "us = (D**.5) @ e\n",
        "\n",
        "print('Noise')\n",
        "print('mu,  expected:', np.zeros(n))\n",
        "print('mu,  realized:', np.round(us.mean(axis=1),2))\n",
        "print('var, expected:', np.round(np.diag(D), 2))\n",
        "print('var, realized:', np.round(us.var(axis=1),2))"
      ],
      "metadata": {
        "colab": {
          "base_uri": "https://localhost:8080/"
        },
        "id": "U2eIYVy5FfMq",
        "outputId": "e1198091-5d74-4c11-af40-a7ccdfcab6d2"
      },
      "execution_count": 209,
      "outputs": [
        {
          "output_type": "stream",
          "name": "stdout",
          "text": [
            "Noise\n",
            "mu,  expected: [0. 0.]\n",
            "mu,  realized: [0. 0.]\n",
            "var, expected: [0.14 0.11]\n",
            "var, realized: [0.14 0.11]\n"
          ]
        }
      ]
    },
    {
      "cell_type": "code",
      "source": [
        "# r: returns\n",
        "\n",
        "rs = B @ Fs + us\n",
        "print('shape        :', rs.shape)\n",
        "print('mu,  expected:', (B * mu).T)\n",
        "print('mu,  realized:', rs.mean(axis=1))\n",
        "print('var, expected:', np.diag((B * Q) * B.T + D) )\n",
        "print('var, realized:', rs.var(axis=1))"
      ],
      "metadata": {
        "colab": {
          "base_uri": "https://localhost:8080/"
        },
        "id": "eetYd_3lGyYe",
        "outputId": "76a79349-6448-4f5a-db37-0a98e96385d7"
      },
      "execution_count": 210,
      "outputs": [
        {
          "output_type": "stream",
          "name": "stdout",
          "text": [
            "shape        : (2, 100000)\n",
            "mu,  expected: [[0.063  0.0261]]\n",
            "mu,  realized: [0.06394733 0.02787718]\n",
            "var, expected: [0.26179384 0.13128795]\n",
            "var, realized: [0.26026039 0.13056295]\n"
          ]
        }
      ]
    }
  ]
}