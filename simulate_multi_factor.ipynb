{
  "nbformat": 4,
  "nbformat_minor": 0,
  "metadata": {
    "colab": {
      "provenance": [],
      "authorship_tag": "ABX9TyMuRKiUTgqtqFwxKoPyPvlD"
    },
    "kernelspec": {
      "name": "python3",
      "display_name": "Python 3"
    },
    "language_info": {
      "name": "python"
    }
  },
  "cells": [
    {
      "cell_type": "markdown",
      "source": [
        "# Multi-factor Model\n",
        "\n",
        "$$\\boldsymbol{r = BF + u}$$"
      ],
      "metadata": {
        "id": "393WbL3pp0GF"
      }
    },
    {
      "cell_type": "code",
      "execution_count": 1,
      "metadata": {
        "id": "pe-r2509_Xjj"
      },
      "outputs": [],
      "source": [
        "import numpy as np\n",
        "\n",
        "SEED = 123\n",
        "m = 1000 # Number of simulations"
      ]
    },
    {
      "cell_type": "code",
      "source": [
        "# B: Exposures\n",
        "\n",
        "n = 5 # Assets\n",
        "k = 2 # Factors\n",
        "np.random.seed(SEED)\n",
        "B = np.round(np.random.rand(n,k) - .5, 2).reshape(n,k) * 10 # Factor exposures\n",
        "\n",
        "print('B')\n",
        "print(B)"
      ],
      "metadata": {
        "colab": {
          "base_uri": "https://localhost:8080/"
        },
        "id": "tqL8JBOvCR3d",
        "outputId": "cb275cba-96c3-471c-c221-3a4c7908411a"
      },
      "execution_count": 2,
      "outputs": [
        {
          "output_type": "stream",
          "name": "stdout",
          "text": [
            "B\n",
            "[[ 2.  -2.1]\n",
            " [-2.7  0.5]\n",
            " [ 2.2 -0.8]\n",
            " [ 4.8  1.8]\n",
            " [-0.2 -1.1]]\n"
          ]
        }
      ]
    },
    {
      "cell_type": "code",
      "source": [
        "# F: Factors\n",
        "\n",
        "np.random.seed(SEED)\n",
        "mu = np.round((np.random.randn(k,1) - .5)/10, 4) # Expected value of factors\n",
        "\n",
        "Q = np.random.rand(k,k)\n",
        "Q = (.5 * (Q + Q.transpose()) + np.eye(k)) / 1000 # Covariance matrix of factors\n",
        "\n",
        "Fs = np.random.multivariate_normal(mu.flatten(), Q, size=m).T\n",
        "\n",
        "print('Factor')\n",
        "print('shape        :', Fs.shape)\n",
        "print('mu,  expected:', mu.flatten())\n",
        "print('mu,  realized:', np.round(Fs.mean(axis=1),4))\n",
        "print('var, expected:', np.round(np.diag(Q),6))\n",
        "print('var, realized:', np.round(Fs.var(axis=1),6))"
      ],
      "metadata": {
        "colab": {
          "base_uri": "https://localhost:8080/"
        },
        "id": "8lHsi582_kXP",
        "outputId": "ec72ba7b-db7e-49f6-c12e-4314e5ec2ae4"
      },
      "execution_count": 3,
      "outputs": [
        {
          "output_type": "stream",
          "name": "stdout",
          "text": [
            "Factor\n",
            "shape        : (2, 1000)\n",
            "mu,  expected: [-0.1586  0.0497]\n",
            "mu,  realized: [-0.1577  0.0504]\n",
            "var, expected: [0.001227 0.001423]\n",
            "var, realized: [0.001208 0.001371]\n"
          ]
        }
      ]
    },
    {
      "cell_type": "code",
      "source": [
        "# u: Unexplained part, i.e. noise, error.\n",
        "\n",
        "np.random.seed(SEED)\n",
        "D = np.eye(n) * np.random.rand(n, n) / 5 # Diagonal matrix of unexplained variances\n",
        "e = np.random.standard_normal(size=(n, m)) # Gaussian noise\n",
        "us = (D**.5) @ e\n",
        "\n",
        "print('Noise')\n",
        "print('mu,  expected:', np.zeros(n))\n",
        "print('mu,  realized:', np.round(us.mean(axis=1),4))\n",
        "print('var, expected:', np.round(np.diag(D),4))\n",
        "print('var, realized:', np.round(us.var(axis=1),4))"
      ],
      "metadata": {
        "colab": {
          "base_uri": "https://localhost:8080/"
        },
        "id": "U2eIYVy5FfMq",
        "outputId": "c54bfd32-27a0-4c6a-8337-f179e4018c5e"
      },
      "execution_count": 4,
      "outputs": [
        {
          "output_type": "stream",
          "name": "stdout",
          "text": [
            "Noise\n",
            "mu,  expected: [0. 0. 0. 0. 0.]\n",
            "mu,  realized: [-0.0235  0.0122  0.0129  0.0039  0.0185]\n",
            "var, expected: [0.1393 0.1962 0.0877 0.1063 0.1445]\n",
            "var, realized: [0.1343 0.1939 0.0896 0.105  0.1499]\n"
          ]
        }
      ]
    },
    {
      "cell_type": "code",
      "source": [
        "# r: target variable\n",
        "\n",
        "rs = B @ Fs + us\n",
        "print('shape        :', rs.shape)\n",
        "print('mu,  expected:', np.round((B @ mu).flatten(), 4))\n",
        "print('mu,  realized:', np.round(rs.mean(axis=1),4))\n",
        "print('var, expected:', np.round(np.diag((B @ Q) @ B.T + D),4))\n",
        "print('var, realized:', np.round(rs.var(axis=1),4))"
      ],
      "metadata": {
        "colab": {
          "base_uri": "https://localhost:8080/"
        },
        "id": "eetYd_3lGyYe",
        "outputId": "25b8c9aa-2b0a-4c05-85ae-93004fa2de0e"
      },
      "execution_count": 8,
      "outputs": [
        {
          "output_type": "stream",
          "name": "stdout",
          "text": [
            "shape        : (5, 1000)\n",
            "mu,  expected: [-0.4216  0.4531 -0.3887 -0.6718 -0.023 ]\n",
            "mu,  realized: [-0.4447  0.4632 -0.3744 -0.6624 -0.0053]\n",
            "var, expected: [0.1451 0.2037 0.0923 0.1502 0.1465]\n",
            "var, realized: [0.142  0.1998 0.0919 0.1583 0.151 ]\n"
          ]
        }
      ]
    },
    {
      "cell_type": "code",
      "source": [],
      "metadata": {
        "id": "wB6SXN2wxz1l"
      },
      "execution_count": null,
      "outputs": []
    }
  ]
}